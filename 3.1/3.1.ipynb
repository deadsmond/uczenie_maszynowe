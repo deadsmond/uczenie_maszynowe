{
 "cells": [
  {
   "cell_type": "code",
   "execution_count": 36,
   "id": "satisfied-origin",
   "metadata": {},
   "outputs": [],
   "source": [
    "%%capture --no-display\n",
    "\n",
    "import pandas as pd\n",
    "import numpy as np\n",
    "from sklearn.linear_model import LinearRegression\n",
    "from sklearn.metrics import accuracy_score, precision_score, recall_score, f1_score\n",
    "from sklearn.model_selection import train_test_split"
   ]
  },
  {
   "cell_type": "code",
   "execution_count": 37,
   "id": "moderate-titanium",
   "metadata": {},
   "outputs": [],
   "source": [
    "column_names = ['class',\n",
    "                'cap-shape',\n",
    "                'cap-surface',\n",
    "                'cap-color',\n",
    "                'bruises?',\n",
    "                'odor',\n",
    "                'gill-attachment',\n",
    "                'gill-spacing',\n",
    "                'gill-size',\n",
    "                'gill-color',\n",
    "                'stalk-shape',\n",
    "                'stalk-root',\n",
    "                'stalk-surface-above-ring',\n",
    "                'stalk-surface-below-ring',\n",
    "                'stalk-color-above-ring',\n",
    "                'stalk-color-below-ring',\n",
    "                'veil-type',\n",
    "                'veil-color',\n",
    "                'ring-number',\n",
    "                'ring-type',\n",
    "                'spore-print-color',\n",
    "                'population',\n",
    "                'habitat']\n",
    "\n",
    "selected_columns = ['odor', 'gill-size']"
   ]
  },
  {
   "cell_type": "code",
   "execution_count": 38,
   "id": "elementary-funds",
   "metadata": {},
   "outputs": [],
   "source": [
    "data_full = pd.read_csv('mushrooms.tsv', sep=\"\\t\", header=None, names=column_names)\n",
    "learn_set = 0.8\n",
    "test_set = 1 - learn_set"
   ]
  },
  {
   "cell_type": "code",
   "execution_count": 39,
   "id": "virtual-cable",
   "metadata": {},
   "outputs": [],
   "source": [
    "# get dummies numbers\n",
    "data = data_full[selected_columns]\n",
    "data = data.dropna()\n",
    "data = pd.get_dummies(data, columns=selected_columns)\n",
    "split_row = int(len(data.index) * learn_set)"
   ]
  },
  {
   "cell_type": "code",
   "execution_count": 40,
   "id": "conditional-visiting",
   "metadata": {},
   "outputs": [],
   "source": [
    "y_true = data_full['class'].replace({'p':0, 'e':1}).values.reshape(-1, 1)"
   ]
  },
  {
   "cell_type": "code",
   "execution_count": 41,
   "id": "chemical-harvard",
   "metadata": {},
   "outputs": [],
   "source": [
    "%%capture --no-display\n",
    "\n",
    "x_train, x_test, y_train, y_test = train_test_split(data,\n",
    "                                                    y_true,\n",
    "                                                    random_state=42,\n",
    "                                                    test_size=.2,\n",
    "                                                    stratify=y_true)"
   ]
  },
  {
   "cell_type": "code",
   "execution_count": 42,
   "id": "cubic-christianity",
   "metadata": {},
   "outputs": [
    {
     "data": {
      "text/plain": [
       "LinearRegression(copy_X=True, fit_intercept=True, n_jobs=None, normalize=True)"
      ]
     },
     "execution_count": 42,
     "metadata": {},
     "output_type": "execute_result"
    }
   ],
   "source": [
    "# Create linear regression object\n",
    "model = LinearRegression(normalize=True)\n",
    "\n",
    "# Train the model using the training sets\n",
    "model.fit(x_train, y_train)"
   ]
  },
  {
   "cell_type": "code",
   "execution_count": 43,
   "id": "racial-clerk",
   "metadata": {},
   "outputs": [],
   "source": [
    "# accuracy:\n",
    "# Predict a Response\n",
    "y_pred = model.predict(x_test)\n",
    "# set threshold of prediction\n",
    "y_pred = (y_pred > 0).astype(int)"
   ]
  },
  {
   "cell_type": "code",
   "execution_count": 44,
   "id": "measured-tonight",
   "metadata": {},
   "outputs": [
    {
     "name": "stdout",
     "output_type": "stream",
     "text": [
      "accuracy: \n",
      " 0.6942148760330579\n"
     ]
    }
   ],
   "source": [
    "print(\"accuracy: \\n\", accuracy_score(y_test, y_pred))"
   ]
  },
  {
   "cell_type": "code",
   "execution_count": 45,
   "id": "sitting-interference",
   "metadata": {},
   "outputs": [
    {
     "name": "stdout",
     "output_type": "stream",
     "text": [
      "precision: 0.6293823038397329\n"
     ]
    }
   ],
   "source": [
    "# precision\n",
    "print('precision:', precision_score(y_test, y_pred))"
   ]
  },
  {
   "cell_type": "code",
   "execution_count": 46,
   "id": "necessary-physiology",
   "metadata": {},
   "outputs": [
    {
     "name": "stdout",
     "output_type": "stream",
     "text": [
      "recall: 1.0\n"
     ]
    }
   ],
   "source": [
    "# recall\n",
    "print('recall:', recall_score(y_test, y_pred))"
   ]
  },
  {
   "cell_type": "code",
   "execution_count": 35,
   "id": "liberal-keyboard",
   "metadata": {},
   "outputs": [
    {
     "name": "stdout",
     "output_type": "stream",
     "text": [
      "f1_score: 0.7725409836065573\n"
     ]
    }
   ],
   "source": [
    " # F-score\n",
    "print('f1_score:', f1_score(y_test, y_pred))"
   ]
  }
 ],
 "metadata": {
  "kernelspec": {
   "display_name": "Python 3",
   "language": "python",
   "name": "python3"
  },
  "language_info": {
   "codemirror_mode": {
    "name": "ipython",
    "version": 3
   },
   "file_extension": ".py",
   "mimetype": "text/x-python",
   "name": "python",
   "nbconvert_exporter": "python",
   "pygments_lexer": "ipython3",
   "version": "3.7.3"
  }
 },
 "nbformat": 4,
 "nbformat_minor": 5
}
